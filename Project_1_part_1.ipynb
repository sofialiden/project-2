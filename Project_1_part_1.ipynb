{
  "nbformat": 4,
  "nbformat_minor": 0,
  "metadata": {
    "colab": {
      "name": "Project 1 part 1 ",
      "provenance": []
    },
    "kernelspec": {
      "name": "python3",
      "display_name": "Python 3"
    },
    "language_info": {
      "name": "python"
    }
  },
  "cells": [
    {
      "cell_type": "code",
      "execution_count": 5,
      "metadata": {
        "id": "OrsAlB7J_Hnw"
      },
      "outputs": [],
      "source": [
        "import requests\n",
        "import pandas as pd\n",
        "url = 'https://www.alphavantage.co/query?function=TIME_SERIES_WEEKLY&symbol=IBM&apikey=A601RIXZHX349L2M'\n",
        "r = requests.get(url)\n",
        "data= r.json()\n",
        "stock=pd.DataFrame.from_dict(data[\"Weekly Time Series\"], orient=\"index\")\n",
        "stock.reset_index(inplace=True)\n",
        "stock.rename(columns={\"1. open\":\"open\",\"2. high\":\"high\", \"3. low\":\"low\",\"4. close\":\"close\",\"5. volume\":\"volume\",\"index\":\"date\"},inplace=True)\n",
        "stock[\"ticker\"]=\"IBM\"\n",
        " \n",
        "def stock(ticker=True):\n",
        "  url = 'https://www.alphavantage.co/query?function=TIME_SERIES_WEEKLY&symbol=' +ticker+\"&apikey=ES6QJ925F5VRCTX6\"\n",
        "  #print(url)\n",
        "  r = requests.get(url)\n",
        "  data= r.json()\n",
        "  stock=pd.DataFrame.from_dict(data[\"Weekly Time Series\"], orient=\"index\")\n",
        "  stock.reset_index(inplace=True)\n",
        "  stock.rename(columns={\"1. open\": \"open\", \"2. high\": \"high\", \"3. low\": \"low\", \"4. close\": \"close\", \"5. volume\": \"volume\", \"index\": \"date\"},inplace=True)\n",
        "  stock[\"ticker\"]=ticker\n",
        "  return stock\n",
        "stocks= stock(ticker=\"A\")"
      ]
    },
    {
      "cell_type": "code",
      "source": [
        "stocks['date']= pd.to_datetime(stocks['date'])\n",
        "stocks.dtypes\n",
        "stocks.columns"
      ],
      "metadata": {
        "colab": {
          "base_uri": "https://localhost:8080/"
        },
        "id": "TAhd_7Wp_Pdc",
        "outputId": "4b866a61-2e23-48e4-e32f-9ae3dc75ebdc"
      },
      "execution_count": 2,
      "outputs": [
        {
          "output_type": "execute_result",
          "data": {
            "text/plain": [
              "Index(['date', 'open', 'high', 'low', 'close', 'volume', 'ticker'], dtype='object')"
            ]
          },
          "metadata": {},
          "execution_count": 2
        }
      ]
    },
    {
      "cell_type": "code",
      "source": [
        "column_names= stocks.columns\n",
        "for i in column_names[1:6]:\n",
        "  stocks[i]= stocks[i].astype('float')\n",
        "stocks.dtypes"
      ],
      "metadata": {
        "colab": {
          "base_uri": "https://localhost:8080/"
        },
        "id": "ntVdZVMP_T_W",
        "outputId": "2f7e9f2f-627b-40ec-82e0-1261a5898314"
      },
      "execution_count": 3,
      "outputs": [
        {
          "output_type": "execute_result",
          "data": {
            "text/plain": [
              "date      datetime64[ns]\n",
              "open             float64\n",
              "high             float64\n",
              "low              float64\n",
              "close            float64\n",
              "volume           float64\n",
              "ticker            object\n",
              "dtype: object"
            ]
          },
          "metadata": {},
          "execution_count": 3
        }
      ]
    },
    {
      "cell_type": "code",
      "source": [
        "import matplotlib.pyplot as plt\n",
        "\n",
        "\n",
        "plt.plot(stocks['date'],stocks['high'])\n",
        "plt.title(\"IBM monthly stock price versus time\")\n",
        "plt.xlabel('date')\n",
        "plt.ylabel('IBM monthly stock price')\n",
        "plt.legend()\n",
        "plt.show()"
      ],
      "metadata": {
        "colab": {
          "base_uri": "https://localhost:8080/",
          "height": 312
        },
        "id": "YZ0-JzOQ_XBK",
        "outputId": "7b579a50-7d58-4b56-e5ea-d233dcc5b567"
      },
      "execution_count": 4,
      "outputs": [
        {
          "output_type": "stream",
          "name": "stderr",
          "text": [
            "No handles with labels found to put in legend.\n"
          ]
        },
        {
          "output_type": "display_data",
          "data": {
            "text/plain": [
              "<Figure size 432x288 with 1 Axes>"
            ],
            "image/png": "[encoded data removed]"
          },
          "metadata": {
            "needs_background": "light"
          }
        }
      ]
    }
  ]
}